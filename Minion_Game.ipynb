{
  "nbformat": 4,
  "nbformat_minor": 0,
  "metadata": {
    "colab": {
      "provenance": [],
      "authorship_tag": "ABX9TyNg5h4Lx4RiPMb4E1g55nED",
      "include_colab_link": true
    },
    "kernelspec": {
      "name": "python3",
      "display_name": "Python 3"
    },
    "language_info": {
      "name": "python"
    }
  },
  "cells": [
    {
      "cell_type": "markdown",
      "metadata": {
        "id": "view-in-github",
        "colab_type": "text"
      },
      "source": [
        "<a href=\"https://colab.research.google.com/github/amymariam/Futurense/blob/main/Minion_Game.ipynb\" target=\"_parent\"><img src=\"https://colab.research.google.com/assets/colab-badge.svg\" alt=\"Open In Colab\"/></a>"
      ]
    },
    {
      "cell_type": "code",
      "execution_count": 1,
      "metadata": {
        "colab": {
          "base_uri": "https://localhost:8080/"
        },
        "id": "F8MhiWOgkxuo",
        "outputId": "1df5e00c-9cc9-4317-d902-74c247bb6dfa"
      },
      "outputs": [
        {
          "output_type": "stream",
          "name": "stdout",
          "text": [
            "Stuart 12\n"
          ]
        }
      ],
      "source": [
        "def minion_game(s):\n",
        "    vowels = \"AEIOU\"\n",
        "    stuart_score = 0\n",
        "    kevin_score = 0\n",
        "    length = len(s)\n",
        "\n",
        "    for i in range(length):\n",
        "        if s[i] in vowels:\n",
        "            kevin_score += length - i\n",
        "        else:\n",
        "            stuart_score += length - i\n",
        "\n",
        "    if stuart_score > kevin_score:\n",
        "        print(f\"Stuart {stuart_score}\")\n",
        "    elif kevin_score > stuart_score:\n",
        "        print(f\"Kevin {kevin_score}\")\n",
        "    else:\n",
        "        print(\"Draw\")\n",
        "\n",
        "\n",
        "string_s = \"BANANA\"\n",
        "minion_game(string_s)\n"
      ]
    },
    {
      "cell_type": "code",
      "source": [],
      "metadata": {
        "id": "hQ9rn7efojNm"
      },
      "execution_count": null,
      "outputs": []
    }
  ]
}